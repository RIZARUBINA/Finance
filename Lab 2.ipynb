{
 "cells": [
  {
   "cell_type": "code",
   "execution_count": 1,
   "metadata": {},
   "outputs": [],
   "source": [
    "import cvxopt as opt\n",
    "import numpy as np\n",
    "import pandas as pd\n",
    "import yfinance as yf\n",
    "from datetime import datetime\n",
    "import statistics as stat\n",
    "import matplotlib.pyplot as plt\n",
    "import importlib\n",
    "import seaborn as sns; sns.set()\n",
    "import finance_scripts as fs\n",
    "import quandl\n",
    "import scipy.optimize as sco\n",
    "plt.style.use('fivethirtyeight')\n",
    "np.random.seed(777)\n",
    "%matplotlib inline\n",
    "%config InlineBackend.figure_format = 'retina'"
   ]
  },
  {
   "cell_type": "code",
   "execution_count": 7,
   "metadata": {},
   "outputs": [
    {
     "data": {
      "text/plain": [
       "<module 'finance_scripts' from 'C:\\\\Users\\\\rizar\\\\finance_scripts.py'>"
      ]
     },
     "execution_count": 7,
     "metadata": {},
     "output_type": "execute_result"
    }
   ],
   "source": [
    "importlib.reload(fs)"
   ]
  },
  {
   "cell_type": "code",
   "execution_count": 8,
   "metadata": {},
   "outputs": [
    {
     "name": "stdout",
     "output_type": "stream",
     "text": [
      "\r",
      "[                       0%                       ]"
     ]
    },
    {
     "name": "stderr",
     "output_type": "stream",
     "text": [
      "Exception in thread Thread-190:\n",
      "Traceback (most recent call last):\n",
      "  File \"C:\\Users\\rizar\\Anaconda3\\lib\\site-packages\\yfinance\\__init__.py\", line 363, in history\n",
      "    quotes = self._parse_quotes(data[\"chart\"][\"result\"][0])\n",
      "  File \"C:\\Users\\rizar\\Anaconda3\\lib\\site-packages\\yfinance\\__init__.py\", line 208, in _parse_quotes\n",
      "    timestamps = data[\"timestamp\"]\n",
      "KeyError: 'timestamp'\n",
      "\n",
      "During handling of the above exception, another exception occurred:\n",
      "\n",
      "Traceback (most recent call last):\n",
      "  File \"C:\\Users\\rizar\\Anaconda3\\lib\\threading.py\", line 917, in _bootstrap_inner\n",
      "    self.run()\n",
      "  File \"C:\\Users\\rizar\\Anaconda3\\lib\\threading.py\", line 865, in run\n",
      "    self._target(*self._args, **self._kwargs)\n",
      "  File \"C:\\Users\\rizar\\Anaconda3\\lib\\site-packages\\multitasking\\__init__.py\", line 102, in _run_via_pool\n",
      "    return callee(*args, **kwargs)\n",
      "  File \"C:\\Users\\rizar\\Anaconda3\\lib\\site-packages\\yfinance\\__init__.py\", line 537, in _download_one_threaded\n",
      "    period, interval, prepost, proxy, rounding)\n",
      "  File \"C:\\Users\\rizar\\Anaconda3\\lib\\site-packages\\yfinance\\__init__.py\", line 550, in _download_one\n",
      "    proxy=proxy, rounding=rounding)\n",
      "  File \"C:\\Users\\rizar\\Anaconda3\\lib\\site-packages\\yfinance\\__init__.py\", line 366, in history\n",
      "    raise ValueError(self.ticker, err_msg)\n",
      "ValueError: ('GSC1.DE', 'No data found for this date range, symbol may be delisted')\n",
      "\n",
      "Exception in thread Thread-193:\n",
      "Traceback (most recent call last):\n",
      "  File \"C:\\Users\\rizar\\Anaconda3\\lib\\threading.py\", line 917, in _bootstrap_inner\n",
      "    self.run()\n",
      "  File \"C:\\Users\\rizar\\Anaconda3\\lib\\threading.py\", line 865, in run\n",
      "    self._target(*self._args, **self._kwargs)\n",
      "  File \"C:\\Users\\rizar\\Anaconda3\\lib\\site-packages\\multitasking\\__init__.py\", line 102, in _run_via_pool\n",
      "    return callee(*args, **kwargs)\n",
      "  File \"C:\\Users\\rizar\\Anaconda3\\lib\\site-packages\\yfinance\\__init__.py\", line 537, in _download_one_threaded\n",
      "    period, interval, prepost, proxy, rounding)\n",
      "  File \"C:\\Users\\rizar\\Anaconda3\\lib\\site-packages\\yfinance\\__init__.py\", line 550, in _download_one\n",
      "    proxy=proxy, rounding=rounding)\n",
      "  File \"C:\\Users\\rizar\\Anaconda3\\lib\\site-packages\\yfinance\\__init__.py\", line 354, in history\n",
      "    raise ValueError(self.ticker, err_msg)\n",
      "ValueError: ('UTDI.DE', \"Data doesn't exist for startDate = 1483218000, endDate = 1514754000\")\n",
      "\n"
     ]
    },
    {
     "name": "stdout",
     "output_type": "stream",
     "text": [
      "[*                      3%                       ]  3 of 91 downloaded"
     ]
    },
    {
     "name": "stderr",
     "output_type": "stream",
     "text": [
      "Exception in thread Thread-194:\n",
      "Traceback (most recent call last):\n",
      "  File \"C:\\Users\\rizar\\Anaconda3\\lib\\site-packages\\yfinance\\__init__.py\", line 363, in history\n",
      "    quotes = self._parse_quotes(data[\"chart\"][\"result\"][0])\n",
      "  File \"C:\\Users\\rizar\\Anaconda3\\lib\\site-packages\\yfinance\\__init__.py\", line 208, in _parse_quotes\n",
      "    timestamps = data[\"timestamp\"]\n",
      "KeyError: 'timestamp'\n",
      "\n",
      "During handling of the above exception, another exception occurred:\n",
      "\n",
      "Traceback (most recent call last):\n",
      "  File \"C:\\Users\\rizar\\Anaconda3\\lib\\threading.py\", line 917, in _bootstrap_inner\n",
      "    self.run()\n",
      "  File \"C:\\Users\\rizar\\Anaconda3\\lib\\threading.py\", line 865, in run\n",
      "    self._target(*self._args, **self._kwargs)\n",
      "  File \"C:\\Users\\rizar\\Anaconda3\\lib\\site-packages\\multitasking\\__init__.py\", line 102, in _run_via_pool\n",
      "    return callee(*args, **kwargs)\n",
      "  File \"C:\\Users\\rizar\\Anaconda3\\lib\\site-packages\\yfinance\\__init__.py\", line 537, in _download_one_threaded\n",
      "    period, interval, prepost, proxy, rounding)\n",
      "  File \"C:\\Users\\rizar\\Anaconda3\\lib\\site-packages\\yfinance\\__init__.py\", line 550, in _download_one\n",
      "    proxy=proxy, rounding=rounding)\n",
      "  File \"C:\\Users\\rizar\\Anaconda3\\lib\\site-packages\\yfinance\\__init__.py\", line 366, in history\n",
      "    raise ValueError(self.ticker, err_msg)\n",
      "ValueError: ('BC8.DE', 'No data found for this date range, symbol may be delisted')\n",
      "\n",
      "Exception in thread Thread-196:\n",
      "Traceback (most recent call last):\n",
      "  File \"C:\\Users\\rizar\\Anaconda3\\lib\\site-packages\\yfinance\\__init__.py\", line 363, in history\n",
      "    quotes = self._parse_quotes(data[\"chart\"][\"result\"][0])\n",
      "  File \"C:\\Users\\rizar\\Anaconda3\\lib\\site-packages\\yfinance\\__init__.py\", line 208, in _parse_quotes\n",
      "    timestamps = data[\"timestamp\"]\n",
      "KeyError: 'timestamp'\n",
      "\n",
      "During handling of the above exception, another exception occurred:\n",
      "\n",
      "Traceback (most recent call last):\n",
      "  File \"C:\\Users\\rizar\\Anaconda3\\lib\\threading.py\", line 917, in _bootstrap_inner\n",
      "    self.run()\n",
      "  File \"C:\\Users\\rizar\\Anaconda3\\lib\\threading.py\", line 865, in run\n",
      "    self._target(*self._args, **self._kwargs)\n",
      "  File \"C:\\Users\\rizar\\Anaconda3\\lib\\site-packages\\multitasking\\__init__.py\", line 102, in _run_via_pool\n",
      "    return callee(*args, **kwargs)\n",
      "  File \"C:\\Users\\rizar\\Anaconda3\\lib\\site-packages\\yfinance\\__init__.py\", line 537, in _download_one_threaded\n",
      "    period, interval, prepost, proxy, rounding)\n",
      "  File \"C:\\Users\\rizar\\Anaconda3\\lib\\site-packages\\yfinance\\__init__.py\", line 550, in _download_one\n",
      "    proxy=proxy, rounding=rounding)\n",
      "  File \"C:\\Users\\rizar\\Anaconda3\\lib\\site-packages\\yfinance\\__init__.py\", line 366, in history\n",
      "    raise ValueError(self.ticker, err_msg)\n",
      "ValueError: ('GFK.DE', 'No data found for this date range, symbol may be delisted')\n",
      "\n"
     ]
    },
    {
     "name": "stdout",
     "output_type": "stream",
     "text": [
      "[****                   8%                       ]  7 of 91 downloaded"
     ]
    },
    {
     "name": "stderr",
     "output_type": "stream",
     "text": [
      "Exception in thread Thread-201:\n",
      "Traceback (most recent call last):\n",
      "  File \"C:\\Users\\rizar\\Anaconda3\\lib\\site-packages\\yfinance\\__init__.py\", line 363, in history\n",
      "    quotes = self._parse_quotes(data[\"chart\"][\"result\"][0])\n",
      "  File \"C:\\Users\\rizar\\Anaconda3\\lib\\site-packages\\yfinance\\__init__.py\", line 208, in _parse_quotes\n",
      "    timestamps = data[\"timestamp\"]\n",
      "KeyError: 'timestamp'\n",
      "\n",
      "During handling of the above exception, another exception occurred:\n",
      "\n",
      "Traceback (most recent call last):\n",
      "  File \"C:\\Users\\rizar\\Anaconda3\\lib\\threading.py\", line 917, in _bootstrap_inner\n",
      "    self.run()\n",
      "  File \"C:\\Users\\rizar\\Anaconda3\\lib\\threading.py\", line 865, in run\n",
      "    self._target(*self._args, **self._kwargs)\n",
      "  File \"C:\\Users\\rizar\\Anaconda3\\lib\\site-packages\\multitasking\\__init__.py\", line 102, in _run_via_pool\n",
      "    return callee(*args, **kwargs)\n",
      "  File \"C:\\Users\\rizar\\Anaconda3\\lib\\site-packages\\yfinance\\__init__.py\", line 537, in _download_one_threaded\n",
      "    period, interval, prepost, proxy, rounding)\n",
      "  File \"C:\\Users\\rizar\\Anaconda3\\lib\\site-packages\\yfinance\\__init__.py\", line 550, in _download_one\n",
      "    proxy=proxy, rounding=rounding)\n",
      "  File \"C:\\Users\\rizar\\Anaconda3\\lib\\site-packages\\yfinance\\__init__.py\", line 366, in history\n",
      "    raise ValueError(self.ticker, err_msg)\n",
      "ValueError: ('ADV.DE', 'No data found for this date range, symbol may be delisted')\n",
      "\n"
     ]
    },
    {
     "name": "stdout",
     "output_type": "stream",
     "text": [
      "[*****                 10%                       ]  9 of 91 downloaded"
     ]
    },
    {
     "name": "stderr",
     "output_type": "stream",
     "text": [
      "Exception in thread Thread-204:\n",
      "Traceback (most recent call last):\n",
      "  File \"C:\\Users\\rizar\\Anaconda3\\lib\\threading.py\", line 917, in _bootstrap_inner\n",
      "    self.run()\n",
      "  File \"C:\\Users\\rizar\\Anaconda3\\lib\\threading.py\", line 865, in run\n",
      "    self._target(*self._args, **self._kwargs)\n",
      "  File \"C:\\Users\\rizar\\Anaconda3\\lib\\site-packages\\multitasking\\__init__.py\", line 102, in _run_via_pool\n",
      "    return callee(*args, **kwargs)\n",
      "  File \"C:\\Users\\rizar\\Anaconda3\\lib\\site-packages\\yfinance\\__init__.py\", line 537, in _download_one_threaded\n",
      "    period, interval, prepost, proxy, rounding)\n",
      "  File \"C:\\Users\\rizar\\Anaconda3\\lib\\site-packages\\yfinance\\__init__.py\", line 550, in _download_one\n",
      "    proxy=proxy, rounding=rounding)\n",
      "  File \"C:\\Users\\rizar\\Anaconda3\\lib\\site-packages\\yfinance\\__init__.py\", line 354, in history\n",
      "    raise ValueError(self.ticker, err_msg)\n",
      "ValueError: ('FRE.DE', \"Data doesn't exist for startDate = 1483218000, endDate = 1514754000\")\n",
      "\n"
     ]
    },
    {
     "name": "stdout",
     "output_type": "stream",
     "text": [
      "[***********           22%                       ]  20 of 91 downloaded"
     ]
    },
    {
     "name": "stderr",
     "output_type": "stream",
     "text": [
      "Exception in thread Thread-215:\n",
      "Traceback (most recent call last):\n",
      "  File \"C:\\Users\\rizar\\Anaconda3\\lib\\site-packages\\yfinance\\__init__.py\", line 363, in history\n",
      "    quotes = self._parse_quotes(data[\"chart\"][\"result\"][0])\n",
      "  File \"C:\\Users\\rizar\\Anaconda3\\lib\\site-packages\\yfinance\\__init__.py\", line 208, in _parse_quotes\n",
      "    timestamps = data[\"timestamp\"]\n",
      "KeyError: 'timestamp'\n",
      "\n",
      "During handling of the above exception, another exception occurred:\n",
      "\n",
      "Traceback (most recent call last):\n",
      "  File \"C:\\Users\\rizar\\Anaconda3\\lib\\threading.py\", line 917, in _bootstrap_inner\n",
      "    self.run()\n",
      "  File \"C:\\Users\\rizar\\Anaconda3\\lib\\threading.py\", line 865, in run\n",
      "    self._target(*self._args, **self._kwargs)\n",
      "  File \"C:\\Users\\rizar\\Anaconda3\\lib\\site-packages\\multitasking\\__init__.py\", line 102, in _run_via_pool\n",
      "    return callee(*args, **kwargs)\n",
      "  File \"C:\\Users\\rizar\\Anaconda3\\lib\\site-packages\\yfinance\\__init__.py\", line 537, in _download_one_threaded\n",
      "    period, interval, prepost, proxy, rounding)\n",
      "  File \"C:\\Users\\rizar\\Anaconda3\\lib\\site-packages\\yfinance\\__init__.py\", line 550, in _download_one\n",
      "    proxy=proxy, rounding=rounding)\n",
      "  File \"C:\\Users\\rizar\\Anaconda3\\lib\\site-packages\\yfinance\\__init__.py\", line 366, in history\n",
      "    raise ValueError(self.ticker, err_msg)\n",
      "ValueError: ('GIL.DE', 'No data found for this date range, symbol may be delisted')\n",
      "\n"
     ]
    },
    {
     "name": "stdout",
     "output_type": "stream",
     "text": [
      "[**************        29%                       ]  26 of 91 downloaded"
     ]
    },
    {
     "name": "stderr",
     "output_type": "stream",
     "text": [
      "Exception in thread Thread-222:\n",
      "Traceback (most recent call last):\n",
      "  File \"C:\\Users\\rizar\\Anaconda3\\lib\\site-packages\\yfinance\\__init__.py\", line 363, in history\n",
      "    quotes = self._parse_quotes(data[\"chart\"][\"result\"][0])\n",
      "  File \"C:\\Users\\rizar\\Anaconda3\\lib\\site-packages\\yfinance\\__init__.py\", line 208, in _parse_quotes\n",
      "    timestamps = data[\"timestamp\"]\n",
      "KeyError: 'timestamp'\n",
      "\n",
      "During handling of the above exception, another exception occurred:\n",
      "\n",
      "Traceback (most recent call last):\n",
      "  File \"C:\\Users\\rizar\\Anaconda3\\lib\\threading.py\", line 917, in _bootstrap_inner\n",
      "    self.run()\n",
      "  File \"C:\\Users\\rizar\\Anaconda3\\lib\\threading.py\", line 865, in run\n",
      "    self._target(*self._args, **self._kwargs)\n",
      "  File \"C:\\Users\\rizar\\Anaconda3\\lib\\site-packages\\multitasking\\__init__.py\", line 102, in _run_via_pool\n",
      "    return callee(*args, **kwargs)\n",
      "  File \"C:\\Users\\rizar\\Anaconda3\\lib\\site-packages\\yfinance\\__init__.py\", line 537, in _download_one_threaded\n",
      "    period, interval, prepost, proxy, rounding)\n",
      "  File \"C:\\Users\\rizar\\Anaconda3\\lib\\site-packages\\yfinance\\__init__.py\", line 550, in _download_one\n",
      "    proxy=proxy, rounding=rounding)\n",
      "  File \"C:\\Users\\rizar\\Anaconda3\\lib\\site-packages\\yfinance\\__init__.py\", line 366, in history\n",
      "    raise ValueError(self.ticker, err_msg)\n",
      "ValueError: ('ARL.DE', 'No data found for this date range, symbol may be delisted')\n",
      "\n",
      "Exception in thread Thread-224:\n",
      "Traceback (most recent call last):\n",
      "  File \"C:\\Users\\rizar\\Anaconda3\\lib\\site-packages\\yfinance\\__init__.py\", line 363, in history\n",
      "    quotes = self._parse_quotes(data[\"chart\"][\"result\"][0])\n",
      "  File \"C:\\Users\\rizar\\Anaconda3\\lib\\site-packages\\yfinance\\__init__.py\", line 208, in _parse_quotes\n",
      "    timestamps = data[\"timestamp\"]\n",
      "KeyError: 'timestamp'\n",
      "\n",
      "During handling of the above exception, another exception occurred:\n",
      "\n",
      "Traceback (most recent call last):\n",
      "  File \"C:\\Users\\rizar\\Anaconda3\\lib\\threading.py\", line 917, in _bootstrap_inner\n",
      "    self.run()\n",
      "  File \"C:\\Users\\rizar\\Anaconda3\\lib\\threading.py\", line 865, in run\n",
      "    self._target(*self._args, **self._kwargs)\n",
      "  File \"C:\\Users\\rizar\\Anaconda3\\lib\\site-packages\\multitasking\\__init__.py\", line 102, in _run_via_pool\n",
      "    return callee(*args, **kwargs)\n",
      "  File \"C:\\Users\\rizar\\Anaconda3\\lib\\site-packages\\yfinance\\__init__.py\", line 537, in _download_one_threaded\n",
      "    period, interval, prepost, proxy, rounding)\n",
      "  File \"C:\\Users\\rizar\\Anaconda3\\lib\\site-packages\\yfinance\\__init__.py\", line 550, in _download_one\n",
      "    proxy=proxy, rounding=rounding)\n",
      "  File \"C:\\Users\\rizar\\Anaconda3\\lib\\site-packages\\yfinance\\__init__.py\", line 366, in history\n",
      "    raise ValueError(self.ticker, err_msg)\n",
      "ValueError: ('SPR.DE', 'No data found for this date range, symbol may be delisted')\n",
      "\n"
     ]
    },
    {
     "name": "stdout",
     "output_type": "stream",
     "text": [
      "[***************       32%                       ]  29 of 91 downloaded"
     ]
    },
    {
     "name": "stderr",
     "output_type": "stream",
     "text": [
      "Exception in thread Thread-227:\n",
      "Traceback (most recent call last):\n",
      "  File \"C:\\Users\\rizar\\Anaconda3\\lib\\threading.py\", line 917, in _bootstrap_inner\n",
      "    self.run()\n",
      "  File \"C:\\Users\\rizar\\Anaconda3\\lib\\threading.py\", line 865, in run\n",
      "    self._target(*self._args, **self._kwargs)\n",
      "  File \"C:\\Users\\rizar\\Anaconda3\\lib\\site-packages\\multitasking\\__init__.py\", line 102, in _run_via_pool\n",
      "    return callee(*args, **kwargs)\n",
      "  File \"C:\\Users\\rizar\\Anaconda3\\lib\\site-packages\\yfinance\\__init__.py\", line 537, in _download_one_threaded\n",
      "    period, interval, prepost, proxy, rounding)\n",
      "  File \"C:\\Users\\rizar\\Anaconda3\\lib\\site-packages\\yfinance\\__init__.py\", line 550, in _download_one\n",
      "    proxy=proxy, rounding=rounding)\n",
      "  File \"C:\\Users\\rizar\\Anaconda3\\lib\\site-packages\\yfinance\\__init__.py\", line 354, in history\n",
      "    raise ValueError(self.ticker, err_msg)\n",
      "ValueError: ('EVD.DE', \"Data doesn't exist for startDate = 1483218000, endDate = 1514754000\")\n",
      "\n"
     ]
    },
    {
     "name": "stdout",
     "output_type": "stream",
     "text": [
      "[****************      34%                       ]  31 of 91 downloaded"
     ]
    },
    {
     "name": "stderr",
     "output_type": "stream",
     "text": [
      "Exception in thread Thread-230:\n",
      "Traceback (most recent call last):\n",
      "  File \"C:\\Users\\rizar\\Anaconda3\\lib\\threading.py\", line 917, in _bootstrap_inner\n",
      "    self.run()\n",
      "  File \"C:\\Users\\rizar\\Anaconda3\\lib\\threading.py\", line 865, in run\n",
      "    self._target(*self._args, **self._kwargs)\n",
      "  File \"C:\\Users\\rizar\\Anaconda3\\lib\\site-packages\\multitasking\\__init__.py\", line 102, in _run_via_pool\n",
      "    return callee(*args, **kwargs)\n",
      "  File \"C:\\Users\\rizar\\Anaconda3\\lib\\site-packages\\yfinance\\__init__.py\", line 537, in _download_one_threaded\n",
      "    period, interval, prepost, proxy, rounding)\n",
      "  File \"C:\\Users\\rizar\\Anaconda3\\lib\\site-packages\\yfinance\\__init__.py\", line 550, in _download_one\n",
      "    proxy=proxy, rounding=rounding)\n",
      "  File \"C:\\Users\\rizar\\Anaconda3\\lib\\site-packages\\yfinance\\__init__.py\", line 354, in history\n",
      "    raise ValueError(self.ticker, err_msg)\n",
      "ValueError: ('SIX2.DE', \"Data doesn't exist for startDate = 1483218000, endDate = 1514754000\")\n",
      "\n"
     ]
    },
    {
     "name": "stdout",
     "output_type": "stream",
     "text": [
      "[**********************49%                       ]  45 of 91 downloaded"
     ]
    },
    {
     "name": "stderr",
     "output_type": "stream",
     "text": [
      "Exception in thread Thread-247:\n",
      "Traceback (most recent call last):\n",
      "  File \"C:\\Users\\rizar\\Anaconda3\\lib\\threading.py\", line 917, in _bootstrap_inner\n",
      "    self.run()\n",
      "  File \"C:\\Users\\rizar\\Anaconda3\\lib\\threading.py\", line 865, in run\n",
      "    self._target(*self._args, **self._kwargs)\n",
      "  File \"C:\\Users\\rizar\\Anaconda3\\lib\\site-packages\\multitasking\\__init__.py\", line 102, in _run_via_pool\n",
      "    return callee(*args, **kwargs)\n",
      "  File \"C:\\Users\\rizar\\Anaconda3\\lib\\site-packages\\yfinance\\__init__.py\", line 537, in _download_one_threaded\n",
      "    period, interval, prepost, proxy, rounding)\n",
      "  File \"C:\\Users\\rizar\\Anaconda3\\lib\\site-packages\\yfinance\\__init__.py\", line 550, in _download_one\n",
      "    proxy=proxy, rounding=rounding)\n",
      "  File \"C:\\Users\\rizar\\Anaconda3\\lib\\site-packages\\yfinance\\__init__.py\", line 354, in history\n",
      "    raise ValueError(self.ticker, err_msg)\n",
      "ValueError: ('SAZ.DE', \"Data doesn't exist for startDate = 1483218000, endDate = 1514754000\")\n",
      "\n",
      "Exception in thread Thread-245:\n",
      "Traceback (most recent call last):\n",
      "  File \"C:\\Users\\rizar\\Anaconda3\\lib\\site-packages\\yfinance\\__init__.py\", line 363, in history\n",
      "    quotes = self._parse_quotes(data[\"chart\"][\"result\"][0])\n",
      "  File \"C:\\Users\\rizar\\Anaconda3\\lib\\site-packages\\yfinance\\__init__.py\", line 208, in _parse_quotes\n",
      "    timestamps = data[\"timestamp\"]\n",
      "KeyError: 'timestamp'\n",
      "\n",
      "During handling of the above exception, another exception occurred:\n",
      "\n",
      "Traceback (most recent call last):\n",
      "  File \"C:\\Users\\rizar\\Anaconda3\\lib\\threading.py\", line 917, in _bootstrap_inner\n",
      "    self.run()\n",
      "  File \"C:\\Users\\rizar\\Anaconda3\\lib\\threading.py\", line 865, in run\n",
      "    self._target(*self._args, **self._kwargs)\n",
      "  File \"C:\\Users\\rizar\\Anaconda3\\lib\\site-packages\\multitasking\\__init__.py\", line 102, in _run_via_pool\n",
      "    return callee(*args, **kwargs)\n",
      "  File \"C:\\Users\\rizar\\Anaconda3\\lib\\site-packages\\yfinance\\__init__.py\", line 537, in _download_one_threaded\n",
      "    period, interval, prepost, proxy, rounding)\n",
      "  File \"C:\\Users\\rizar\\Anaconda3\\lib\\site-packages\\yfinance\\__init__.py\", line 550, in _download_one\n",
      "    proxy=proxy, rounding=rounding)\n",
      "  File \"C:\\Users\\rizar\\Anaconda3\\lib\\site-packages\\yfinance\\__init__.py\", line 366, in history\n",
      "    raise ValueError(self.ticker, err_msg)\n",
      "ValueError: ('MEO.DE', 'No data found for this date range, symbol may be delisted')\n",
      "\n"
     ]
    },
    {
     "name": "stdout",
     "output_type": "stream",
     "text": [
      "[**********************53%                       ]  48 of 91 downloaded"
     ]
    },
    {
     "name": "stderr",
     "output_type": "stream",
     "text": [
      "Exception in thread Thread-250:\n",
      "Traceback (most recent call last):\n",
      "  File \"C:\\Users\\rizar\\Anaconda3\\lib\\site-packages\\yfinance\\__init__.py\", line 363, in history\n",
      "    quotes = self._parse_quotes(data[\"chart\"][\"result\"][0])\n",
      "  File \"C:\\Users\\rizar\\Anaconda3\\lib\\site-packages\\yfinance\\__init__.py\", line 208, in _parse_quotes\n",
      "    timestamps = data[\"timestamp\"]\n",
      "KeyError: 'timestamp'\n",
      "\n",
      "During handling of the above exception, another exception occurred:\n",
      "\n",
      "Traceback (most recent call last):\n",
      "  File \"C:\\Users\\rizar\\Anaconda3\\lib\\threading.py\", line 917, in _bootstrap_inner\n",
      "    self.run()\n",
      "  File \"C:\\Users\\rizar\\Anaconda3\\lib\\threading.py\", line 865, in run\n",
      "    self._target(*self._args, **self._kwargs)\n",
      "  File \"C:\\Users\\rizar\\Anaconda3\\lib\\site-packages\\multitasking\\__init__.py\", line 102, in _run_via_pool\n",
      "    return callee(*args, **kwargs)\n",
      "  File \"C:\\Users\\rizar\\Anaconda3\\lib\\site-packages\\yfinance\\__init__.py\", line 537, in _download_one_threaded\n",
      "    period, interval, prepost, proxy, rounding)\n",
      "  File \"C:\\Users\\rizar\\Anaconda3\\lib\\site-packages\\yfinance\\__init__.py\", line 550, in _download_one\n",
      "    proxy=proxy, rounding=rounding)\n",
      "  File \"C:\\Users\\rizar\\Anaconda3\\lib\\site-packages\\yfinance\\__init__.py\", line 366, in history\n",
      "    raise ValueError(self.ticker, err_msg)\n",
      "ValueError: ('RAA.DE', 'No data found for this date range, symbol may be delisted')\n",
      "\n",
      "Exception in thread Thread-252:\n",
      "Traceback (most recent call last):\n",
      "  File \"C:\\Users\\rizar\\Anaconda3\\lib\\threading.py\", line 917, in _bootstrap_inner\n",
      "    self.run()\n",
      "  File \"C:\\Users\\rizar\\Anaconda3\\lib\\threading.py\", line 865, in run\n",
      "    self._target(*self._args, **self._kwargs)\n",
      "  File \"C:\\Users\\rizar\\Anaconda3\\lib\\site-packages\\multitasking\\__init__.py\", line 102, in _run_via_pool\n",
      "    return callee(*args, **kwargs)\n",
      "  File \"C:\\Users\\rizar\\Anaconda3\\lib\\site-packages\\yfinance\\__init__.py\", line 537, in _download_one_threaded\n",
      "    period, interval, prepost, proxy, rounding)\n",
      "  File \"C:\\Users\\rizar\\Anaconda3\\lib\\site-packages\\yfinance\\__init__.py\", line 550, in _download_one\n",
      "    proxy=proxy, rounding=rounding)\n",
      "  File \"C:\\Users\\rizar\\Anaconda3\\lib\\site-packages\\yfinance\\__init__.py\", line 354, in history\n",
      "    raise ValueError(self.ticker, err_msg)\n",
      "ValueError: ('SDF.DE', \"Data doesn't exist for startDate = 1483218000, endDate = 1514754000\")\n",
      "\n",
      "Exception in thread Thread-254:\n",
      "Traceback (most recent call last):\n",
      "  File \"C:\\Users\\rizar\\Anaconda3\\lib\\threading.py\", line 917, in _bootstrap_inner\n",
      "    self.run()\n",
      "  File \"C:\\Users\\rizar\\Anaconda3\\lib\\threading.py\", line 865, in run\n",
      "    self._target(*self._args, **self._kwargs)\n",
      "  File \"C:\\Users\\rizar\\Anaconda3\\lib\\site-packages\\multitasking\\__init__.py\", line 102, in _run_via_pool\n",
      "    return callee(*args, **kwargs)\n",
      "  File \"C:\\Users\\rizar\\Anaconda3\\lib\\site-packages\\yfinance\\__init__.py\", line 537, in _download_one_threaded\n",
      "    period, interval, prepost, proxy, rounding)\n",
      "  File \"C:\\Users\\rizar\\Anaconda3\\lib\\site-packages\\yfinance\\__init__.py\", line 550, in _download_one\n",
      "    proxy=proxy, rounding=rounding)\n",
      "  File \"C:\\Users\\rizar\\Anaconda3\\lib\\site-packages\\yfinance\\__init__.py\", line 354, in history\n",
      "    raise ValueError(self.ticker, err_msg)\n",
      "ValueError: ('JUN3.DE', \"Data doesn't exist for startDate = 1483218000, endDate = 1514754000\")\n",
      "\n",
      "Exception in thread Thread-253:\n",
      "Traceback (most recent call last):\n",
      "  File \"C:\\Users\\rizar\\Anaconda3\\lib\\threading.py\", line 917, in _bootstrap_inner\n",
      "    self.run()\n",
      "  File \"C:\\Users\\rizar\\Anaconda3\\lib\\threading.py\", line 865, in run\n",
      "    self._target(*self._args, **self._kwargs)\n",
      "  File \"C:\\Users\\rizar\\Anaconda3\\lib\\site-packages\\multitasking\\__init__.py\", line 102, in _run_via_pool\n",
      "    return callee(*args, **kwargs)\n",
      "  File \"C:\\Users\\rizar\\Anaconda3\\lib\\site-packages\\yfinance\\__init__.py\", line 537, in _download_one_threaded\n",
      "    period, interval, prepost, proxy, rounding)\n",
      "  File \"C:\\Users\\rizar\\Anaconda3\\lib\\site-packages\\yfinance\\__init__.py\", line 550, in _download_one\n",
      "    proxy=proxy, rounding=rounding)\n",
      "  File \"C:\\Users\\rizar\\Anaconda3\\lib\\site-packages\\yfinance\\__init__.py\", line 354, in history\n",
      "    raise ValueError(self.ticker, err_msg)\n",
      "ValueError: ('BDT.DE', \"Data doesn't exist for startDate = 1483218000, endDate = 1514754000\")\n",
      "\n"
     ]
    },
    {
     "name": "stdout",
     "output_type": "stream",
     "text": [
      "[**********************69%********               ]  63 of 91 downloaded"
     ]
    },
    {
     "name": "stderr",
     "output_type": "stream",
     "text": [
      "Exception in thread Thread-270:\n",
      "Traceback (most recent call last):\n",
      "  File \"C:\\Users\\rizar\\Anaconda3\\lib\\threading.py\", line 917, in _bootstrap_inner\n",
      "    self.run()\n",
      "  File \"C:\\Users\\rizar\\Anaconda3\\lib\\threading.py\", line 865, in run\n",
      "    self._target(*self._args, **self._kwargs)\n",
      "  File \"C:\\Users\\rizar\\Anaconda3\\lib\\site-packages\\multitasking\\__init__.py\", line 102, in _run_via_pool\n",
      "    return callee(*args, **kwargs)\n",
      "  File \"C:\\Users\\rizar\\Anaconda3\\lib\\site-packages\\yfinance\\__init__.py\", line 537, in _download_one_threaded\n",
      "    period, interval, prepost, proxy, rounding)\n",
      "  File \"C:\\Users\\rizar\\Anaconda3\\lib\\site-packages\\yfinance\\__init__.py\", line 550, in _download_one\n",
      "    proxy=proxy, rounding=rounding)\n",
      "  File \"C:\\Users\\rizar\\Anaconda3\\lib\\site-packages\\yfinance\\__init__.py\", line 354, in history\n",
      "    raise ValueError(self.ticker, err_msg)\n",
      "ValueError: ('JEN.DE', \"Data doesn't exist for startDate = 1483218000, endDate = 1514754000\")\n",
      "\n"
     ]
    },
    {
     "name": "stdout",
     "output_type": "stream",
     "text": [
      "[**********************76%***********            ]  69 of 91 downloaded"
     ]
    },
    {
     "name": "stderr",
     "output_type": "stream",
     "text": [
      "Exception in thread Thread-275:\n",
      "Traceback (most recent call last):\n",
      "  File \"C:\\Users\\rizar\\Anaconda3\\lib\\threading.py\", line 917, in _bootstrap_inner\n",
      "    self.run()\n",
      "  File \"C:\\Users\\rizar\\Anaconda3\\lib\\threading.py\", line 865, in run\n",
      "    self._target(*self._args, **self._kwargs)\n",
      "  File \"C:\\Users\\rizar\\Anaconda3\\lib\\site-packages\\multitasking\\__init__.py\", line 102, in _run_via_pool\n",
      "    return callee(*args, **kwargs)\n",
      "  File \"C:\\Users\\rizar\\Anaconda3\\lib\\site-packages\\yfinance\\__init__.py\", line 537, in _download_one_threaded\n",
      "    period, interval, prepost, proxy, rounding)\n",
      "  File \"C:\\Users\\rizar\\Anaconda3\\lib\\site-packages\\yfinance\\__init__.py\", line 550, in _download_one\n",
      "    proxy=proxy, rounding=rounding)\n",
      "  File \"C:\\Users\\rizar\\Anaconda3\\lib\\site-packages\\yfinance\\__init__.py\", line 354, in history\n",
      "    raise ValueError(self.ticker, err_msg)\n",
      "ValueError: ('AIR.DE', \"Data doesn't exist for startDate = 1483218000, endDate = 1514754000\")\n",
      "\n"
     ]
    },
    {
     "name": "stdout",
     "output_type": "stream",
     "text": [
      "[*********************100%***********************]  72 of 91 downloaded"
     ]
    },
    {
     "name": "stderr",
     "output_type": "stream",
     "text": [
      "Exception in thread Thread-279:\n",
      "Traceback (most recent call last):\n",
      "  File \"C:\\Users\\rizar\\Anaconda3\\lib\\threading.py\", line 917, in _bootstrap_inner\n",
      "    self.run()\n",
      "  File \"C:\\Users\\rizar\\Anaconda3\\lib\\threading.py\", line 865, in run\n",
      "    self._target(*self._args, **self._kwargs)\n",
      "  File \"C:\\Users\\rizar\\Anaconda3\\lib\\site-packages\\multitasking\\__init__.py\", line 102, in _run_via_pool\n",
      "    return callee(*args, **kwargs)\n",
      "  File \"C:\\Users\\rizar\\Anaconda3\\lib\\site-packages\\yfinance\\__init__.py\", line 537, in _download_one_threaded\n",
      "    period, interval, prepost, proxy, rounding)\n",
      "  File \"C:\\Users\\rizar\\Anaconda3\\lib\\site-packages\\yfinance\\__init__.py\", line 550, in _download_one\n",
      "    proxy=proxy, rounding=rounding)\n",
      "  File \"C:\\Users\\rizar\\Anaconda3\\lib\\site-packages\\yfinance\\__init__.py\", line 354, in history\n",
      "    raise ValueError(self.ticker, err_msg)\n",
      "ValueError: ('KU2.DE', \"Data doesn't exist for startDate = 1483218000, endDate = 1514754000\")\n",
      "\n"
     ]
    },
    {
     "name": "stdout",
     "output_type": "stream",
     "text": [
      "\n"
     ]
    }
   ],
   "source": [
    "fs.init()"
   ]
  },
  {
   "cell_type": "code",
   "execution_count": 9,
   "metadata": {
    "scrolled": false
   },
   "outputs": [
    {
     "name": "stdout",
     "output_type": "stream",
     "text": [
      "            AAD.DE  ADS.DE  AFX.DE  ALV.DE  BAS.DE  BAYN.DE  BEI.DE  BMW.DE  \\\n",
      "Date                                                                          \n",
      "2017-01-02   73.70  151.30   35.80  157.30   88.70    98.61   81.87   89.98   \n",
      "2017-01-03   73.29  149.25   35.48  159.55   87.70    99.15   81.11   90.83   \n",
      "2017-01-04   73.20  146.40   35.19  160.40   88.15   100.43   80.48   90.18   \n",
      "2017-01-05   73.68  144.30   35.06  160.70   87.79   101.02   80.80   90.34   \n",
      "2017-01-06   74.15  144.80   35.04  161.10   87.52   100.77   80.54   90.51   \n",
      "\n",
      "            BOSS.DE  BVB.DE  ...  SAP.DE  SBS.DE  SGL.DE  SIE.DE  SKB.DE  \\\n",
      "Date                         ...                                           \n",
      "2017-01-02    59.00    5.36  ...   83.54    45.9   8.525  117.95   43.12   \n",
      "2017-01-03    58.03    5.35  ...   82.89    46.7   8.535  116.20   43.80   \n",
      "2017-01-04    57.25    5.30  ...   82.43    47.8   8.553  115.70   42.99   \n",
      "2017-01-05    55.67    5.33  ...   82.69    48.0   8.577  114.95   43.05   \n",
      "2017-01-06    56.13    5.38  ...   83.66    47.2   8.885  115.95   44.26   \n",
      "\n",
      "            SZG.DE  SZU.DE  TEG.DE  TKA.DE  TTK.DE  \n",
      "Date                                                \n",
      "2017-01-02   33.90   22.69   12.60   22.95   21.48  \n",
      "2017-01-03   34.16   22.97   12.46   23.02   21.35  \n",
      "2017-01-04   34.19   22.90   12.45   22.67   21.25  \n",
      "2017-01-05   34.10   23.25   12.55   22.75   22.07  \n",
      "2017-01-06   33.93   23.09   12.43   22.62   22.10  \n",
      "\n",
      "[5 rows x 71 columns]\n"
     ]
    }
   ],
   "source": [
    "dClosed = pd.read_pickle(\"close_cleared.pickle\") #  цены закрытия\n",
    "dVolume = pd.read_pickle(\"volume_cleared.pickle\") #  объёмы продаж\n",
    "print(dClosed.head(5)) # Число исследуемых компаний"
   ]
  },
  {
   "cell_type": "code",
   "execution_count": 10,
   "metadata": {},
   "outputs": [],
   "source": [
    "logR = np.log(dClosed / dClosed.shift(1))\n",
    "e = datetime.strptime('2017-01-02', '%Y-%m-%d')\n",
    "logR = logR.drop(e)"
   ]
  },
  {
   "cell_type": "code",
   "execution_count": 129,
   "metadata": {},
   "outputs": [],
   "source": [
    "portfolio_stocks =['TTK.DE','MLP.DE','CON.DE','ALV.DE','ADS.DE','HOT.DE','BAS.DE','BAYN.DE','BEI.DE','BMW.DE','CBK.DE','CON.DE','DAI.DE','DB1.DE','DBK.DE','DPW.DE','DTE.DE','FME.DE','HEI.DE','HEN3.DE','IFX.DE','LHA.DE','LIN.DE','MRK.DE','MUV2.DE','RWE.DE','SAP.DE','SIE.DE','TKA.DE','BOSS.DE','DEQ.DE','DUE.DE','FIE.DE','FRA.DE','G1A.DE','GBF.DE','HNR1.DE','DEZ.DE','HOT.DE','KRN.DE','LEO.DE','LXS.DE','MAN.DE','NDA.DE','RHK.DE','MOR.DE','NEM.DE','PFV.DE','BOSS.DE','DEQ.DE']\n",
    "portfolio_stocks=portfolio_stocks[:10]\n",
    "portfolio_R=logR[portfolio_stocks]"
   ]
  },
  {
   "cell_type": "markdown",
   "metadata": {},
   "source": [
    "Загружаем данные по DAX и чистим их"
   ]
  },
  {
   "cell_type": "code",
   "execution_count": 260,
   "metadata": {},
   "outputs": [],
   "source": [
    "DAX_data=pd.read_csv('DAX.csv', delimiter=',')\n",
    "DAX_close=[]\n",
    "DAX_logR=[]\n",
    "for i in range(len(DAX_data[\"Цена\"])):\n",
    "    a=DAX_data[\"Цена\"][i].replace(\".\",\"\")\n",
    "    a=a.replace(\",\",\".\")\n",
    "    DAX_close.append(float(a))\n",
    "for i in range(len(DAX_close)-1):\n",
    "    DAX_logR.append(round(np.log(float(DAX_close[::-1][i])/float(DAX_close[::-1][i+1])),5))\n"
   ]
  },
  {
   "cell_type": "markdown",
   "metadata": {},
   "source": [
    "Гистограмма логарифмич доходностей, очень напоминает норм распределение"
   ]
  },
  {
   "cell_type": "code",
   "execution_count": 89,
   "metadata": {
    "scrolled": false
   },
   "outputs": [
    {
     "data": {
      "text/plain": [
       "<function matplotlib.pyplot.show(*args, **kw)>"
      ]
     },
     "execution_count": 89,
     "metadata": {},
     "output_type": "execute_result"
    },
    {
     "data": {
      "image/png": "[encoded data removed]",
      "text/plain": [
       "<Figure size 432x288 with 1 Axes>"
      ]
     },
     "metadata": {
      "image/png": {
       "height": 261,
       "width": 415
      }
     },
     "output_type": "display_data"
    }
   ],
   "source": [
    "n, bins, patches = plt.hist(DAX_logR, 10, facecolor='blue', alpha=0.5)\n",
    "plt.show"
   ]
  },
  {
   "cell_type": "markdown",
   "metadata": {},
   "source": [
    "Гистограмма цен на момент закрытия"
   ]
  },
  {
   "cell_type": "code",
   "execution_count": 95,
   "metadata": {
    "scrolled": true
   },
   "outputs": [
    {
     "data": {
      "text/plain": [
       "<function matplotlib.pyplot.show(*args, **kw)>"
      ]
     },
     "execution_count": 95,
     "metadata": {},
     "output_type": "execute_result"
    },
    {
     "data": {
      "image/png": "[encoded data removed]",
      "text/plain": [
       "<Figure size 432x288 with 1 Axes>"
      ]
     },
     "metadata": {
      "image/png": {
       "height": 261,
       "width": 407
      }
     },
     "output_type": "display_data"
    }
   ],
   "source": [
    "n, bins, patches = plt.hist(DAX_close, 10, facecolor='blue', alpha=0.5)\n",
    "plt.show"
   ]
  },
  {
   "cell_type": "markdown",
   "metadata": {},
   "source": [
    "Тест Хи2 на нормальность распределения"
   ]
  },
  {
   "cell_type": "code",
   "execution_count": 114,
   "metadata": {},
   "outputs": [],
   "source": [
    "def Hi2(data,n):\n",
    "    a=min(data)\n",
    "    b=max(data)\n",
    "    \n",
    "    h=(b-a)/n\n",
    "    x_i=[]\n",
    "    n_i=[]\n",
    "    for i in range(n):\n",
    "        x_i.append(round(a+h*i,5))\n",
    "        n_i.append(0)\n",
    "    for i in range(1,len(data)):\n",
    "        num=0\n",
    "        flag=0\n",
    "        for j in range(len(x_i)):\n",
    "        \n",
    "            if data[i]>x_i[j]:\n",
    "                num+=1\n",
    "            if data[i]<x_i[j] and flag==0:\n",
    "                n_i[num-1]+=1\n",
    "                flag=1\n",
    "                continue\n",
    "    x_i=np.array(x_i)\n",
    "    n_i=np.array(n_i)\n",
    "\n",
    "    x_=sum(x_i*n_i)/sum(n_i)\n",
    "    S=np.sqrt(sum((x_-x_i)**2*n_i)/(sum(n_i)-1))\n",
    "\n",
    "    expected=np.exp(-(x_i-x_)**2/(2*S**2))/(S*np.sqrt(2*np.pi))\n",
    "\n",
    "\n",
    "\n",
    "    plt.plot(x_i,expected, label='expected')\n",
    "    plt.plot(x_i,n_i,'r',label='observed')\n",
    "    plt.legend(loc='upper right')\n",
    "\n",
    "    Xi2=sum((n_i-expected)**2/expected)\n",
    "    Xi2\n",
    "    return(Xi2)\n",
    "            "
   ]
  },
  {
   "cell_type": "code",
   "execution_count": 124,
   "metadata": {},
   "outputs": [
    {
     "data": {
      "text/plain": [
       "23.680076645716955"
      ]
     },
     "execution_count": 124,
     "metadata": {},
     "output_type": "execute_result"
    },
    {
     "data": {
      "image/png": "[encoded data removed]",
      "text/plain": [
       "<Figure size 432x288 with 1 Axes>"
      ]
     },
     "metadata": {
      "image/png": {
       "height": 261,
       "width": 405
      }
     },
     "output_type": "display_data"
    }
   ],
   "source": [
    "Hi2(DAX_logR,14)"
   ]
  },
  {
   "cell_type": "markdown",
   "metadata": {},
   "source": [
    "И хотя графики очень близки и похожи, значение Хи2 для неотвержения гипотезы нормального распределения должно быть меньше."
   ]
  },
  {
   "cell_type": "code",
   "execution_count": 172,
   "metadata": {},
   "outputs": [],
   "source": [
    "R_m=[]\n",
    "for _ in range(len(logR.mean())):\n",
    "    R_m.append(sum(DAX_logR)/len(DAX_logR))"
   ]
  },
  {
   "cell_type": "markdown",
   "metadata": {},
   "source": [
    "Линейная регрессии для подбора альфа, бетта и ошибок"
   ]
  },
  {
   "cell_type": "code",
   "execution_count": 176,
   "metadata": {},
   "outputs": [
    {
     "name": "stderr",
     "output_type": "stream",
     "text": [
      "C:\\Users\\rizar\\Anaconda3\\lib\\site-packages\\IPython\\core\\interactiveshell.py:3325: RankWarning: Polyfit may be poorly conditioned\n",
      "  exec(code_obj, self.user_global_ns, self.user_ns)\n"
     ]
    }
   ],
   "source": [
    "Xtrn, Xtest, Ytrn, Ytest = train_test_split(trn, trg, test_size=0.2, shuffle=True, random_state=42)Xtrn, Xtest, Ytrn, Ytest = train_test_split(trn, trg, test_size=0.2, shuffle=True, random_state=42)"
   ]
  },
  {
   "cell_type": "code",
   "execution_count": 181,
   "metadata": {},
   "outputs": [],
   "source": [
    "from sklearn.linear_model import LinearRegression, Ridge, Lasso\n",
    "from sklearn.metrics import r2_score\n",
    "from sklearn.model_selection import KFold\n",
    "from sklearn.model_selection import train_test_split"
   ]
  },
  {
   "cell_type": "code",
   "execution_count": 254,
   "metadata": {
    "scrolled": true
   },
   "outputs": [],
   "source": [
    "Xtrn, Xtest, Ytrn, Ytest = train_test_split(DAX_logR, logR[\"AAD.DE\"][0:251], test_size=0.1, shuffle=True, random_state=42)"
   ]
  },
  {
   "cell_type": "markdown",
   "metadata": {},
   "source": [
    "Зафигашиваю единицы, чтобы были коэффициенты"
   ]
  },
  {
   "cell_type": "code",
   "execution_count": 255,
   "metadata": {},
   "outputs": [],
   "source": [
    "Ytrng=[]\n",
    "Xtrng=[]\n",
    "Xtes=[]\n",
    "for i in range(len( Ytrn)):\n",
    "    Ytrng.append(Ytrn[i])\n",
    "    a=[]\n",
    "    a.append(1)\n",
    "    a.append(Xtrn[i])\n",
    "    a.append(1)\n",
    "    Xtrng.append(a)\n",
    "    \n",
    "for i in range(len( Ytest)):\n",
    "    a=[]\n",
    "    a.append(1)\n",
    "    a.append(Xtest[i])\n",
    "    a.append(1)\n",
    "    Xtes.append(a)"
   ]
  },
  {
   "cell_type": "code",
   "execution_count": 256,
   "metadata": {},
   "outputs": [
    {
     "data": {
      "text/plain": [
       "array([ 0.        , -0.10278282,  0.        ])"
      ]
     },
     "execution_count": 256,
     "metadata": {},
     "output_type": "execute_result"
    }
   ],
   "source": [
    "regr = LinearRegression(fit_intercept=True,copy_X=True)\n",
    "regr.fit(Xtrng, Ytrng)\n",
    "regr.coef_"
   ]
  },
  {
   "cell_type": "code",
   "execution_count": 257,
   "metadata": {},
   "outputs": [
    {
     "data": {
      "text/plain": [
       "0.017168428229954236"
      ]
     },
     "execution_count": 257,
     "metadata": {},
     "output_type": "execute_result"
    }
   ],
   "source": [
    "Y_pred = regr.predict(Xtes)\n",
    "r2_score(Ytest, Y_pred)"
   ]
  },
  {
   "cell_type": "code",
   "execution_count": 258,
   "metadata": {},
   "outputs": [
    {
     "data": {
      "text/plain": [
       "[0.00122, -1e-05, -5e-05, -0.00121, 0.00302]"
      ]
     },
     "execution_count": 258,
     "metadata": {},
     "output_type": "execute_result"
    }
   ],
   "source": [
    "DAX_logR[:5]"
   ]
  },
  {
   "cell_type": "code",
   "execution_count": 259,
   "metadata": {},
   "outputs": [
    {
     "data": {
      "text/plain": [
       "Date\n",
       "2017-01-03   -0.005579\n",
       "2017-01-04   -0.001229\n",
       "2017-01-05    0.006536\n",
       "2017-01-06    0.006359\n",
       "2017-01-09    0.001886\n",
       "Name: AAD.DE, dtype: float64"
      ]
     },
     "execution_count": 259,
     "metadata": {},
     "output_type": "execute_result"
    }
   ],
   "source": [
    "logR[\"AAD.DE\"][0:5]"
   ]
  },
  {
   "cell_type": "code",
   "execution_count": null,
   "metadata": {},
   "outputs": [],
   "source": []
  }
 ],
 "metadata": {
  "kernelspec": {
   "display_name": "Python 3",
   "language": "python",
   "name": "python3"
  },
  "language_info": {
   "codemirror_mode": {
    "name": "ipython",
    "version": 3
   },
   "file_extension": ".py",
   "mimetype": "text/x-python",
   "name": "python",
   "nbconvert_exporter": "python",
   "pygments_lexer": "ipython3",
   "version": "3.7.3"
  }
 },
 "nbformat": 4,
 "nbformat_minor": 2
}
